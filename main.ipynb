{
 "cells": [
  {
   "cell_type": "markdown",
   "source": [
    "# RFM ile Müşteri Segmentasyonu (Customer Segmentation with RFM)"
   ],
   "metadata": {
    "collapsed": false
   },
   "id": "f5909e5797f2c43c"
  },
  {
   "cell_type": "markdown",
   "source": [
    "# İş Problemi (Business Problem)"
   ],
   "metadata": {
    "collapsed": false
   },
   "id": "93cb14d4e5a0ee3a"
  },
  {
   "cell_type": "markdown",
   "source": [
    "FLO müşterilerini segmentlere ayırıp bu segmentlere göre pazarlama stratejileri belirlemek istiyor.Buna yönelik olarak müşterilerin davranışları tanımlanacak ve bu davranış öbeklenmelerine göre gruplar oluşturulacak.\n"
   ],
   "metadata": {
    "collapsed": false
   },
   "id": "72632cc800a65327"
  },
  {
   "cell_type": "markdown",
   "source": [
    "## Veri Seti Hikayesi"
   ],
   "metadata": {
    "collapsed": false
   },
   "id": "fac3ff9bd73eead3"
  },
  {
   "cell_type": "markdown",
   "source": [
    "Veri seti son alışverişlerini 2020 - 2021 yıllarında OmniChannel(hem online hem offline alışveriş yapan) olarak yapan müşterilerin geçmiş alışveriş davranışlarından elde edilen bilgilerden oluşmaktadır."
   ],
   "metadata": {
    "collapsed": false
   },
   "id": "356e3bf7645bb061"
  },
  {
   "cell_type": "markdown",
   "source": [
    "**Değişkenler**\n",
    "* master_id: Eşsiz müşteri numarası\n",
    "* order_channel : Alışveriş yapılan platforma ait hangi kanalın kullanıldığı (Android, ios, Desktop, Mobile, Offline)\n",
    "* last_order_channel : En son alışverişin yapıldığı kanal\n",
    "* first_order_date : Müşterinin yaptığı ilk alışveriş tarihi\n",
    "* last_order_date : Müşterinin yaptığı son alışveriş tarihi\n",
    " * last_order_date_online : Muşterinin online platformda yaptığı son alışveriş tarihi\n",
    " * last_order_date_offline : Muşterinin offline platformda yaptığı son alışveriş tarihi\n",
    " * order_num_total_ever_online : Müşterinin online platformda yaptığı toplam alışveriş sayısı\n",
    " * order_num_total_ever_offline : Müşterinin offline'da yaptığı toplam alışveriş sayısı\n",
    " * customer_value_total_ever_offline : Müşterinin offline alışverişlerinde ödediği toplam ücret\n",
    " * customer_value_total_ever_online : Müşterinin online alışverişlerinde ödediği toplam ücret\n",
    " * interested_in_categories_12 : Müşterinin son 12 ayda alışveriş yaptığı kategorilerin listesi"
   ],
   "metadata": {
    "collapsed": false
   },
   "id": "3c25b6aae2228f07"
  },
  {
   "cell_type": "code",
   "outputs": [],
   "source": [
    "import numpy as np\n",
    "import pandas as pd\n",
    "import datetime as dt"
   ],
   "metadata": {
    "collapsed": false,
    "ExecuteTime": {
     "end_time": "2024-09-08T20:46:05.038906Z",
     "start_time": "2024-09-08T20:46:04.756341Z"
    }
   },
   "id": "ef3b328908c69eb9",
   "execution_count": 1
  },
  {
   "cell_type": "markdown",
   "source": [
    "### GÖREV 1: Veriyi Anlama (Data Understanding) ve Hazırlama"
   ],
   "metadata": {
    "collapsed": false
   },
   "id": "783ac9a553fb0fb3"
  },
  {
   "cell_type": "code",
   "outputs": [],
   "source": [
    "df_ = pd.read_csv('flo_data_20k.csv')\n",
    "df = df_.copy()"
   ],
   "metadata": {
    "collapsed": false,
    "ExecuteTime": {
     "end_time": "2024-09-08T20:46:35.864396Z",
     "start_time": "2024-09-08T20:46:35.825519Z"
    }
   },
   "id": "3202915867df3efc",
   "execution_count": 2
  },
  {
   "cell_type": "code",
   "outputs": [
    {
     "data": {
      "text/plain": "                              master_id order_channel last_order_channel  \\\n0  cc294636-19f0-11eb-8d74-000d3a38a36f   Android App            Offline   \n1  f431bd5a-ab7b-11e9-a2fc-000d3a38a36f   Android App             Mobile   \n2  69b69676-1a40-11ea-941b-000d3a38a36f   Android App        Android App   \n3  1854e56c-491f-11eb-806e-000d3a38a36f   Android App        Android App   \n4  d6ea1074-f1f5-11e9-9346-000d3a38a36f       Desktop            Desktop   \n5  e585280e-aae1-11e9-a2fc-000d3a38a36f       Desktop            Offline   \n6  c445e4ee-6242-11ea-9d1a-000d3a38a36f   Android App        Android App   \n7  3f1b4dc8-8a7d-11ea-8ec0-000d3a38a36f        Mobile            Offline   \n8  cfbda69e-5b4f-11ea-aca7-000d3a38a36f   Android App        Android App   \n9  1143f032-440d-11ea-8b43-000d3a38a36f        Mobile             Mobile   \n\n  first_order_date last_order_date last_order_date_online  \\\n0       2020-10-30      2021-02-26             2021-02-21   \n1       2017-02-08      2021-02-16             2021-02-16   \n2       2019-11-27      2020-11-27             2020-11-27   \n3       2021-01-06      2021-01-17             2021-01-17   \n4       2019-08-03      2021-03-07             2021-03-07   \n5       2018-11-18      2021-03-13             2018-11-18   \n6       2020-03-04      2020-10-18             2020-10-18   \n7       2020-05-15      2020-08-12             2020-05-15   \n8       2020-01-23      2021-03-07             2021-03-07   \n9       2019-07-30      2020-10-04             2020-10-04   \n\n  last_order_date_offline  order_num_total_ever_online  \\\n0              2021-02-26                          4.0   \n1              2020-01-10                         19.0   \n2              2019-12-01                          3.0   \n3              2021-01-06                          1.0   \n4              2019-08-03                          1.0   \n5              2021-03-13                          1.0   \n6              2020-03-04                          3.0   \n7              2020-08-12                          1.0   \n8              2020-01-25                          3.0   \n9              2019-07-30                          1.0   \n\n   order_num_total_ever_offline  customer_value_total_ever_offline  \\\n0                           1.0                             139.99   \n1                           2.0                             159.97   \n2                           2.0                             189.97   \n3                           1.0                              39.99   \n4                           1.0                              49.99   \n5                           2.0                             150.87   \n6                           1.0                              59.99   \n7                           1.0                              49.99   \n8                           2.0                             120.48   \n9                           1.0                              69.98   \n\n   customer_value_total_ever_online       interested_in_categories_12  \n0                            799.38                           [KADIN]  \n1                           1853.58  [ERKEK, COCUK, KADIN, AKTIFSPOR]  \n2                            395.35                    [ERKEK, KADIN]  \n3                             81.98               [AKTIFCOCUK, COCUK]  \n4                            159.99                       [AKTIFSPOR]  \n5                             49.99                           [KADIN]  \n6                            315.94                       [AKTIFSPOR]  \n7                            113.64                           [COCUK]  \n8                            934.21             [ERKEK, COCUK, KADIN]  \n9                             95.98                [KADIN, AKTIFSPOR]  ",
      "text/html": "<div>\n<style scoped>\n    .dataframe tbody tr th:only-of-type {\n        vertical-align: middle;\n    }\n\n    .dataframe tbody tr th {\n        vertical-align: top;\n    }\n\n    .dataframe thead th {\n        text-align: right;\n    }\n</style>\n<table border=\"1\" class=\"dataframe\">\n  <thead>\n    <tr style=\"text-align: right;\">\n      <th></th>\n      <th>master_id</th>\n      <th>order_channel</th>\n      <th>last_order_channel</th>\n      <th>first_order_date</th>\n      <th>last_order_date</th>\n      <th>last_order_date_online</th>\n      <th>last_order_date_offline</th>\n      <th>order_num_total_ever_online</th>\n      <th>order_num_total_ever_offline</th>\n      <th>customer_value_total_ever_offline</th>\n      <th>customer_value_total_ever_online</th>\n      <th>interested_in_categories_12</th>\n    </tr>\n  </thead>\n  <tbody>\n    <tr>\n      <th>0</th>\n      <td>cc294636-19f0-11eb-8d74-000d3a38a36f</td>\n      <td>Android App</td>\n      <td>Offline</td>\n      <td>2020-10-30</td>\n      <td>2021-02-26</td>\n      <td>2021-02-21</td>\n      <td>2021-02-26</td>\n      <td>4.0</td>\n      <td>1.0</td>\n      <td>139.99</td>\n      <td>799.38</td>\n      <td>[KADIN]</td>\n    </tr>\n    <tr>\n      <th>1</th>\n      <td>f431bd5a-ab7b-11e9-a2fc-000d3a38a36f</td>\n      <td>Android App</td>\n      <td>Mobile</td>\n      <td>2017-02-08</td>\n      <td>2021-02-16</td>\n      <td>2021-02-16</td>\n      <td>2020-01-10</td>\n      <td>19.0</td>\n      <td>2.0</td>\n      <td>159.97</td>\n      <td>1853.58</td>\n      <td>[ERKEK, COCUK, KADIN, AKTIFSPOR]</td>\n    </tr>\n    <tr>\n      <th>2</th>\n      <td>69b69676-1a40-11ea-941b-000d3a38a36f</td>\n      <td>Android App</td>\n      <td>Android App</td>\n      <td>2019-11-27</td>\n      <td>2020-11-27</td>\n      <td>2020-11-27</td>\n      <td>2019-12-01</td>\n      <td>3.0</td>\n      <td>2.0</td>\n      <td>189.97</td>\n      <td>395.35</td>\n      <td>[ERKEK, KADIN]</td>\n    </tr>\n    <tr>\n      <th>3</th>\n      <td>1854e56c-491f-11eb-806e-000d3a38a36f</td>\n      <td>Android App</td>\n      <td>Android App</td>\n      <td>2021-01-06</td>\n      <td>2021-01-17</td>\n      <td>2021-01-17</td>\n      <td>2021-01-06</td>\n      <td>1.0</td>\n      <td>1.0</td>\n      <td>39.99</td>\n      <td>81.98</td>\n      <td>[AKTIFCOCUK, COCUK]</td>\n    </tr>\n    <tr>\n      <th>4</th>\n      <td>d6ea1074-f1f5-11e9-9346-000d3a38a36f</td>\n      <td>Desktop</td>\n      <td>Desktop</td>\n      <td>2019-08-03</td>\n      <td>2021-03-07</td>\n      <td>2021-03-07</td>\n      <td>2019-08-03</td>\n      <td>1.0</td>\n      <td>1.0</td>\n      <td>49.99</td>\n      <td>159.99</td>\n      <td>[AKTIFSPOR]</td>\n    </tr>\n    <tr>\n      <th>5</th>\n      <td>e585280e-aae1-11e9-a2fc-000d3a38a36f</td>\n      <td>Desktop</td>\n      <td>Offline</td>\n      <td>2018-11-18</td>\n      <td>2021-03-13</td>\n      <td>2018-11-18</td>\n      <td>2021-03-13</td>\n      <td>1.0</td>\n      <td>2.0</td>\n      <td>150.87</td>\n      <td>49.99</td>\n      <td>[KADIN]</td>\n    </tr>\n    <tr>\n      <th>6</th>\n      <td>c445e4ee-6242-11ea-9d1a-000d3a38a36f</td>\n      <td>Android App</td>\n      <td>Android App</td>\n      <td>2020-03-04</td>\n      <td>2020-10-18</td>\n      <td>2020-10-18</td>\n      <td>2020-03-04</td>\n      <td>3.0</td>\n      <td>1.0</td>\n      <td>59.99</td>\n      <td>315.94</td>\n      <td>[AKTIFSPOR]</td>\n    </tr>\n    <tr>\n      <th>7</th>\n      <td>3f1b4dc8-8a7d-11ea-8ec0-000d3a38a36f</td>\n      <td>Mobile</td>\n      <td>Offline</td>\n      <td>2020-05-15</td>\n      <td>2020-08-12</td>\n      <td>2020-05-15</td>\n      <td>2020-08-12</td>\n      <td>1.0</td>\n      <td>1.0</td>\n      <td>49.99</td>\n      <td>113.64</td>\n      <td>[COCUK]</td>\n    </tr>\n    <tr>\n      <th>8</th>\n      <td>cfbda69e-5b4f-11ea-aca7-000d3a38a36f</td>\n      <td>Android App</td>\n      <td>Android App</td>\n      <td>2020-01-23</td>\n      <td>2021-03-07</td>\n      <td>2021-03-07</td>\n      <td>2020-01-25</td>\n      <td>3.0</td>\n      <td>2.0</td>\n      <td>120.48</td>\n      <td>934.21</td>\n      <td>[ERKEK, COCUK, KADIN]</td>\n    </tr>\n    <tr>\n      <th>9</th>\n      <td>1143f032-440d-11ea-8b43-000d3a38a36f</td>\n      <td>Mobile</td>\n      <td>Mobile</td>\n      <td>2019-07-30</td>\n      <td>2020-10-04</td>\n      <td>2020-10-04</td>\n      <td>2019-07-30</td>\n      <td>1.0</td>\n      <td>1.0</td>\n      <td>69.98</td>\n      <td>95.98</td>\n      <td>[KADIN, AKTIFSPOR]</td>\n    </tr>\n  </tbody>\n</table>\n</div>"
     },
     "execution_count": 3,
     "metadata": {},
     "output_type": "execute_result"
    }
   ],
   "source": [
    "# a. İlk 10 gözlem,\n",
    "df.head(10)\n"
   ],
   "metadata": {
    "collapsed": false,
    "ExecuteTime": {
     "end_time": "2024-09-08T20:47:03.512368Z",
     "start_time": "2024-09-08T20:47:03.499141Z"
    }
   },
   "id": "ef4a1961b8a84de7",
   "execution_count": 3
  },
  {
   "cell_type": "code",
   "outputs": [
    {
     "data": {
      "text/plain": "Index(['master_id', 'order_channel', 'last_order_channel', 'first_order_date',\n       'last_order_date', 'last_order_date_online', 'last_order_date_offline',\n       'order_num_total_ever_online', 'order_num_total_ever_offline',\n       'customer_value_total_ever_offline', 'customer_value_total_ever_online',\n       'interested_in_categories_12'],\n      dtype='object')"
     },
     "execution_count": 4,
     "metadata": {},
     "output_type": "execute_result"
    }
   ],
   "source": [
    "# b. Değişken isimleri,\n",
    "df.columns"
   ],
   "metadata": {
    "collapsed": false,
    "ExecuteTime": {
     "end_time": "2024-09-08T20:47:17.350785Z",
     "start_time": "2024-09-08T20:47:17.347109Z"
    }
   },
   "id": "cda18ee84b17fdfe",
   "execution_count": 4
  },
  {
   "cell_type": "code",
   "outputs": [
    {
     "data": {
      "text/plain": "                                     count        mean         std    min  \\\norder_num_total_ever_online        19945.0    3.110855    4.225647   1.00   \norder_num_total_ever_offline       19945.0    1.913913    2.062880   1.00   \ncustomer_value_total_ever_offline  19945.0  253.922597  301.532853  10.00   \ncustomer_value_total_ever_online   19945.0  497.321690  832.601886  12.99   \n\n                                      25%     50%     75%       max  \norder_num_total_ever_online          1.00    2.00    4.00    200.00  \norder_num_total_ever_offline         1.00    1.00    2.00    109.00  \ncustomer_value_total_ever_offline   99.99  179.98  319.97  18119.14  \ncustomer_value_total_ever_online   149.98  286.46  578.44  45220.13  ",
      "text/html": "<div>\n<style scoped>\n    .dataframe tbody tr th:only-of-type {\n        vertical-align: middle;\n    }\n\n    .dataframe tbody tr th {\n        vertical-align: top;\n    }\n\n    .dataframe thead th {\n        text-align: right;\n    }\n</style>\n<table border=\"1\" class=\"dataframe\">\n  <thead>\n    <tr style=\"text-align: right;\">\n      <th></th>\n      <th>count</th>\n      <th>mean</th>\n      <th>std</th>\n      <th>min</th>\n      <th>25%</th>\n      <th>50%</th>\n      <th>75%</th>\n      <th>max</th>\n    </tr>\n  </thead>\n  <tbody>\n    <tr>\n      <th>order_num_total_ever_online</th>\n      <td>19945.0</td>\n      <td>3.110855</td>\n      <td>4.225647</td>\n      <td>1.00</td>\n      <td>1.00</td>\n      <td>2.00</td>\n      <td>4.00</td>\n      <td>200.00</td>\n    </tr>\n    <tr>\n      <th>order_num_total_ever_offline</th>\n      <td>19945.0</td>\n      <td>1.913913</td>\n      <td>2.062880</td>\n      <td>1.00</td>\n      <td>1.00</td>\n      <td>1.00</td>\n      <td>2.00</td>\n      <td>109.00</td>\n    </tr>\n    <tr>\n      <th>customer_value_total_ever_offline</th>\n      <td>19945.0</td>\n      <td>253.922597</td>\n      <td>301.532853</td>\n      <td>10.00</td>\n      <td>99.99</td>\n      <td>179.98</td>\n      <td>319.97</td>\n      <td>18119.14</td>\n    </tr>\n    <tr>\n      <th>customer_value_total_ever_online</th>\n      <td>19945.0</td>\n      <td>497.321690</td>\n      <td>832.601886</td>\n      <td>12.99</td>\n      <td>149.98</td>\n      <td>286.46</td>\n      <td>578.44</td>\n      <td>45220.13</td>\n    </tr>\n  </tbody>\n</table>\n</div>"
     },
     "execution_count": 5,
     "metadata": {},
     "output_type": "execute_result"
    }
   ],
   "source": [
    "# c. Betimsel istatistik,\n",
    "df.describe().T"
   ],
   "metadata": {
    "collapsed": false,
    "ExecuteTime": {
     "end_time": "2024-09-08T20:47:31.438138Z",
     "start_time": "2024-09-08T20:47:31.420758Z"
    }
   },
   "id": "2199183c3a6cefb8",
   "execution_count": 5
  },
  {
   "cell_type": "code",
   "outputs": [
    {
     "data": {
      "text/plain": "master_id                            0\norder_channel                        0\nlast_order_channel                   0\nfirst_order_date                     0\nlast_order_date                      0\nlast_order_date_online               0\nlast_order_date_offline              0\norder_num_total_ever_online          0\norder_num_total_ever_offline         0\ncustomer_value_total_ever_offline    0\ncustomer_value_total_ever_online     0\ninterested_in_categories_12          0\ndtype: int64"
     },
     "execution_count": 6,
     "metadata": {},
     "output_type": "execute_result"
    }
   ],
   "source": [
    "# d. Boş değer,\n",
    "df.isnull().sum()"
   ],
   "metadata": {
    "collapsed": false,
    "ExecuteTime": {
     "end_time": "2024-09-08T20:47:44.222052Z",
     "start_time": "2024-09-08T20:47:44.200709Z"
    }
   },
   "id": "7463cc3db731925f",
   "execution_count": 6
  },
  {
   "cell_type": "code",
   "outputs": [
    {
     "name": "stdout",
     "output_type": "stream",
     "text": [
      "<class 'pandas.core.frame.DataFrame'>\n",
      "RangeIndex: 19945 entries, 0 to 19944\n",
      "Data columns (total 12 columns):\n",
      " #   Column                             Non-Null Count  Dtype  \n",
      "---  ------                             --------------  -----  \n",
      " 0   master_id                          19945 non-null  object \n",
      " 1   order_channel                      19945 non-null  object \n",
      " 2   last_order_channel                 19945 non-null  object \n",
      " 3   first_order_date                   19945 non-null  object \n",
      " 4   last_order_date                    19945 non-null  object \n",
      " 5   last_order_date_online             19945 non-null  object \n",
      " 6   last_order_date_offline            19945 non-null  object \n",
      " 7   order_num_total_ever_online        19945 non-null  float64\n",
      " 8   order_num_total_ever_offline       19945 non-null  float64\n",
      " 9   customer_value_total_ever_offline  19945 non-null  float64\n",
      " 10  customer_value_total_ever_online   19945 non-null  float64\n",
      " 11  interested_in_categories_12        19945 non-null  object \n",
      "dtypes: float64(4), object(8)\n",
      "memory usage: 1.8+ MB\n"
     ]
    }
   ],
   "source": [
    "# e. Değişken tipleri, incelemesi yapınız.\n",
    "df.info()"
   ],
   "metadata": {
    "collapsed": false,
    "ExecuteTime": {
     "end_time": "2024-09-08T20:47:52.414173Z",
     "start_time": "2024-09-08T20:47:52.392165Z"
    }
   },
   "id": "5f8a83a21da9da25",
   "execution_count": 7
  },
  {
   "cell_type": "code",
   "outputs": [
    {
     "data": {
      "text/plain": "                              master_id order_channel last_order_channel  \\\n0  cc294636-19f0-11eb-8d74-000d3a38a36f   Android App            Offline   \n1  f431bd5a-ab7b-11e9-a2fc-000d3a38a36f   Android App             Mobile   \n2  69b69676-1a40-11ea-941b-000d3a38a36f   Android App        Android App   \n3  1854e56c-491f-11eb-806e-000d3a38a36f   Android App        Android App   \n4  d6ea1074-f1f5-11e9-9346-000d3a38a36f       Desktop            Desktop   \n\n  first_order_date last_order_date last_order_date_online  \\\n0       2020-10-30      2021-02-26             2021-02-21   \n1       2017-02-08      2021-02-16             2021-02-16   \n2       2019-11-27      2020-11-27             2020-11-27   \n3       2021-01-06      2021-01-17             2021-01-17   \n4       2019-08-03      2021-03-07             2021-03-07   \n\n  last_order_date_offline  order_num_total_ever_online  \\\n0              2021-02-26                          4.0   \n1              2020-01-10                         19.0   \n2              2019-12-01                          3.0   \n3              2021-01-06                          1.0   \n4              2019-08-03                          1.0   \n\n   order_num_total_ever_offline  customer_value_total_ever_offline  \\\n0                           1.0                             139.99   \n1                           2.0                             159.97   \n2                           2.0                             189.97   \n3                           1.0                              39.99   \n4                           1.0                              49.99   \n\n   customer_value_total_ever_online       interested_in_categories_12  \\\n0                            799.38                           [KADIN]   \n1                           1853.58  [ERKEK, COCUK, KADIN, AKTIFSPOR]   \n2                            395.35                    [ERKEK, KADIN]   \n3                             81.98               [AKTIFCOCUK, COCUK]   \n4                            159.99                       [AKTIFSPOR]   \n\n   toplam_alisveris_sayisi  toplam_harcama  \n0                      5.0          939.37  \n1                     21.0         2013.55  \n2                      5.0          585.32  \n3                      2.0          121.97  \n4                      2.0          209.98  ",
      "text/html": "<div>\n<style scoped>\n    .dataframe tbody tr th:only-of-type {\n        vertical-align: middle;\n    }\n\n    .dataframe tbody tr th {\n        vertical-align: top;\n    }\n\n    .dataframe thead th {\n        text-align: right;\n    }\n</style>\n<table border=\"1\" class=\"dataframe\">\n  <thead>\n    <tr style=\"text-align: right;\">\n      <th></th>\n      <th>master_id</th>\n      <th>order_channel</th>\n      <th>last_order_channel</th>\n      <th>first_order_date</th>\n      <th>last_order_date</th>\n      <th>last_order_date_online</th>\n      <th>last_order_date_offline</th>\n      <th>order_num_total_ever_online</th>\n      <th>order_num_total_ever_offline</th>\n      <th>customer_value_total_ever_offline</th>\n      <th>customer_value_total_ever_online</th>\n      <th>interested_in_categories_12</th>\n      <th>toplam_alisveris_sayisi</th>\n      <th>toplam_harcama</th>\n    </tr>\n  </thead>\n  <tbody>\n    <tr>\n      <th>0</th>\n      <td>cc294636-19f0-11eb-8d74-000d3a38a36f</td>\n      <td>Android App</td>\n      <td>Offline</td>\n      <td>2020-10-30</td>\n      <td>2021-02-26</td>\n      <td>2021-02-21</td>\n      <td>2021-02-26</td>\n      <td>4.0</td>\n      <td>1.0</td>\n      <td>139.99</td>\n      <td>799.38</td>\n      <td>[KADIN]</td>\n      <td>5.0</td>\n      <td>939.37</td>\n    </tr>\n    <tr>\n      <th>1</th>\n      <td>f431bd5a-ab7b-11e9-a2fc-000d3a38a36f</td>\n      <td>Android App</td>\n      <td>Mobile</td>\n      <td>2017-02-08</td>\n      <td>2021-02-16</td>\n      <td>2021-02-16</td>\n      <td>2020-01-10</td>\n      <td>19.0</td>\n      <td>2.0</td>\n      <td>159.97</td>\n      <td>1853.58</td>\n      <td>[ERKEK, COCUK, KADIN, AKTIFSPOR]</td>\n      <td>21.0</td>\n      <td>2013.55</td>\n    </tr>\n    <tr>\n      <th>2</th>\n      <td>69b69676-1a40-11ea-941b-000d3a38a36f</td>\n      <td>Android App</td>\n      <td>Android App</td>\n      <td>2019-11-27</td>\n      <td>2020-11-27</td>\n      <td>2020-11-27</td>\n      <td>2019-12-01</td>\n      <td>3.0</td>\n      <td>2.0</td>\n      <td>189.97</td>\n      <td>395.35</td>\n      <td>[ERKEK, KADIN]</td>\n      <td>5.0</td>\n      <td>585.32</td>\n    </tr>\n    <tr>\n      <th>3</th>\n      <td>1854e56c-491f-11eb-806e-000d3a38a36f</td>\n      <td>Android App</td>\n      <td>Android App</td>\n      <td>2021-01-06</td>\n      <td>2021-01-17</td>\n      <td>2021-01-17</td>\n      <td>2021-01-06</td>\n      <td>1.0</td>\n      <td>1.0</td>\n      <td>39.99</td>\n      <td>81.98</td>\n      <td>[AKTIFCOCUK, COCUK]</td>\n      <td>2.0</td>\n      <td>121.97</td>\n    </tr>\n    <tr>\n      <th>4</th>\n      <td>d6ea1074-f1f5-11e9-9346-000d3a38a36f</td>\n      <td>Desktop</td>\n      <td>Desktop</td>\n      <td>2019-08-03</td>\n      <td>2021-03-07</td>\n      <td>2021-03-07</td>\n      <td>2019-08-03</td>\n      <td>1.0</td>\n      <td>1.0</td>\n      <td>49.99</td>\n      <td>159.99</td>\n      <td>[AKTIFSPOR]</td>\n      <td>2.0</td>\n      <td>209.98</td>\n    </tr>\n  </tbody>\n</table>\n</div>"
     },
     "execution_count": 9,
     "metadata": {},
     "output_type": "execute_result"
    }
   ],
   "source": [
    "# 3. Omnichannel müşterilerin hem online'dan hemde offline platformlardan alışveriş yaptığını ifade etmektedir. Herbir müşterinin toplam alışveriş sayısı ve harcaması için yeni değişkenler oluşturun.\n",
    "\n",
    "df['toplam_alisveris_sayisi'] = df[\"order_num_total_ever_online\"] + df[\"order_num_total_ever_offline\"]\n",
    "df[\"toplam_harcama\"] = df[\"customer_value_total_ever_offline\"] + df[\"customer_value_total_ever_online\"]\n",
    "df.head()"
   ],
   "metadata": {
    "collapsed": false,
    "ExecuteTime": {
     "end_time": "2024-09-08T20:48:21.246909Z",
     "start_time": "2024-09-08T20:48:21.239048Z"
    }
   },
   "id": "75d49e5ffa089b10",
   "execution_count": 9
  },
  {
   "cell_type": "code",
   "outputs": [
    {
     "name": "stdout",
     "output_type": "stream",
     "text": [
      "<class 'pandas.core.frame.DataFrame'>\n",
      "RangeIndex: 19945 entries, 0 to 19944\n",
      "Data columns (total 14 columns):\n",
      " #   Column                             Non-Null Count  Dtype         \n",
      "---  ------                             --------------  -----         \n",
      " 0   master_id                          19945 non-null  object        \n",
      " 1   order_channel                      19945 non-null  object        \n",
      " 2   last_order_channel                 19945 non-null  object        \n",
      " 3   first_order_date                   19945 non-null  datetime64[ns]\n",
      " 4   last_order_date                    19945 non-null  datetime64[ns]\n",
      " 5   last_order_date_online             19945 non-null  datetime64[ns]\n",
      " 6   last_order_date_offline            19945 non-null  datetime64[ns]\n",
      " 7   order_num_total_ever_online        19945 non-null  float64       \n",
      " 8   order_num_total_ever_offline       19945 non-null  float64       \n",
      " 9   customer_value_total_ever_offline  19945 non-null  float64       \n",
      " 10  customer_value_total_ever_online   19945 non-null  float64       \n",
      " 11  interested_in_categories_12        19945 non-null  object        \n",
      " 12  toplam_alisveris_sayisi            19945 non-null  float64       \n",
      " 13  toplam_harcama                     19945 non-null  float64       \n",
      "dtypes: datetime64[ns](4), float64(6), object(4)\n",
      "memory usage: 2.1+ MB\n"
     ]
    }
   ],
   "source": [
    "convert =[\"first_order_date\",\"last_order_date\",\"last_order_date_online\",\"last_order_date_offline\"]\n",
    "df[convert] = df[convert].apply(pd.to_datetime)\n",
    "df.info()"
   ],
   "metadata": {
    "collapsed": false,
    "ExecuteTime": {
     "end_time": "2024-09-08T20:48:54.343554Z",
     "start_time": "2024-09-08T20:48:54.298983Z"
    }
   },
   "id": "751e39cc58a2a15e",
   "execution_count": 11
  },
  {
   "cell_type": "code",
   "outputs": [
    {
     "data": {
      "text/plain": "               toplam_alisveris_sayisi  toplam_harcama\norder_channel                                         \nAndroid App                   5.504897      823.492655\nDesktop                       3.992687      588.782984\nIos App                       5.418637      891.634285\nMobile                        4.440598      620.275125",
      "text/html": "<div>\n<style scoped>\n    .dataframe tbody tr th:only-of-type {\n        vertical-align: middle;\n    }\n\n    .dataframe tbody tr th {\n        vertical-align: top;\n    }\n\n    .dataframe thead th {\n        text-align: right;\n    }\n</style>\n<table border=\"1\" class=\"dataframe\">\n  <thead>\n    <tr style=\"text-align: right;\">\n      <th></th>\n      <th>toplam_alisveris_sayisi</th>\n      <th>toplam_harcama</th>\n    </tr>\n    <tr>\n      <th>order_channel</th>\n      <th></th>\n      <th></th>\n    </tr>\n  </thead>\n  <tbody>\n    <tr>\n      <th>Android App</th>\n      <td>5.504897</td>\n      <td>823.492655</td>\n    </tr>\n    <tr>\n      <th>Desktop</th>\n      <td>3.992687</td>\n      <td>588.782984</td>\n    </tr>\n    <tr>\n      <th>Ios App</th>\n      <td>5.418637</td>\n      <td>891.634285</td>\n    </tr>\n    <tr>\n      <th>Mobile</th>\n      <td>4.440598</td>\n      <td>620.275125</td>\n    </tr>\n  </tbody>\n</table>\n</div>"
     },
     "execution_count": 12,
     "metadata": {},
     "output_type": "execute_result"
    }
   ],
   "source": [
    "# 5. Alışveriş kanallarındaki müşteri sayısının, ortalama alınan ürün sayısının ve ortalama harcamaların dağılımına bakınız.\n",
    "\n",
    "df.groupby('order_channel').agg({'toplam_alisveris_sayisi':'mean',\n",
    "                                'toplam_harcama':'mean',\n",
    "                                 })"
   ],
   "metadata": {
    "collapsed": false,
    "ExecuteTime": {
     "end_time": "2024-09-08T20:49:35.860633Z",
     "start_time": "2024-09-08T20:49:35.852105Z"
    }
   },
   "id": "b13d8758781a4b66",
   "execution_count": 12
  },
  {
   "cell_type": "code",
   "outputs": [
    {
     "data": {
      "text/plain": "                                      toplam_harcama\nmaster_id                                           \n5d1c466a-9cfd-11e9-9897-000d3a38a36f        45905.10\nd5ef8058-a5c6-11e9-a2fc-000d3a38a36f        36818.29\n73fd19aa-9e37-11e9-9897-000d3a38a36f        33918.10\n7137a5c0-7aad-11ea-8f20-000d3a38a36f        31227.41\n47a642fe-975b-11eb-8c2a-000d3a38a36f        20706.34\na4d534a2-5b1b-11eb-8dbd-000d3a38a36f        18443.57\nd696c654-2633-11ea-8e1c-000d3a38a36f        16918.57\nfef57ffa-aae6-11e9-a2fc-000d3a38a36f        12726.10\ncba59206-9dd1-11e9-9897-000d3a38a36f        12282.24\nfc0ce7a4-9d87-11e9-9897-000d3a38a36f        12103.15",
      "text/html": "<div>\n<style scoped>\n    .dataframe tbody tr th:only-of-type {\n        vertical-align: middle;\n    }\n\n    .dataframe tbody tr th {\n        vertical-align: top;\n    }\n\n    .dataframe thead th {\n        text-align: right;\n    }\n</style>\n<table border=\"1\" class=\"dataframe\">\n  <thead>\n    <tr style=\"text-align: right;\">\n      <th></th>\n      <th>toplam_harcama</th>\n    </tr>\n    <tr>\n      <th>master_id</th>\n      <th></th>\n    </tr>\n  </thead>\n  <tbody>\n    <tr>\n      <th>5d1c466a-9cfd-11e9-9897-000d3a38a36f</th>\n      <td>45905.10</td>\n    </tr>\n    <tr>\n      <th>d5ef8058-a5c6-11e9-a2fc-000d3a38a36f</th>\n      <td>36818.29</td>\n    </tr>\n    <tr>\n      <th>73fd19aa-9e37-11e9-9897-000d3a38a36f</th>\n      <td>33918.10</td>\n    </tr>\n    <tr>\n      <th>7137a5c0-7aad-11ea-8f20-000d3a38a36f</th>\n      <td>31227.41</td>\n    </tr>\n    <tr>\n      <th>47a642fe-975b-11eb-8c2a-000d3a38a36f</th>\n      <td>20706.34</td>\n    </tr>\n    <tr>\n      <th>a4d534a2-5b1b-11eb-8dbd-000d3a38a36f</th>\n      <td>18443.57</td>\n    </tr>\n    <tr>\n      <th>d696c654-2633-11ea-8e1c-000d3a38a36f</th>\n      <td>16918.57</td>\n    </tr>\n    <tr>\n      <th>fef57ffa-aae6-11e9-a2fc-000d3a38a36f</th>\n      <td>12726.10</td>\n    </tr>\n    <tr>\n      <th>cba59206-9dd1-11e9-9897-000d3a38a36f</th>\n      <td>12282.24</td>\n    </tr>\n    <tr>\n      <th>fc0ce7a4-9d87-11e9-9897-000d3a38a36f</th>\n      <td>12103.15</td>\n    </tr>\n  </tbody>\n</table>\n</div>"
     },
     "execution_count": 13,
     "metadata": {},
     "output_type": "execute_result"
    }
   ],
   "source": [
    "# 6. En fazla kazancı getiren ilk 10 müşteriyi sıralayınız.\n",
    "\n",
    "df.groupby('master_id').agg({'toplam_harcama': 'sum'}).sort_values(by='toplam_harcama', ascending=False).head(10)"
   ],
   "metadata": {
    "collapsed": false,
    "ExecuteTime": {
     "end_time": "2024-09-08T20:50:00.042949Z",
     "start_time": "2024-09-08T20:50:00.019358Z"
    }
   },
   "id": "acfc34ed16b25f37",
   "execution_count": 13
  },
  {
   "cell_type": "code",
   "outputs": [
    {
     "data": {
      "text/plain": "                                      toplam_alisveris_sayisi\nmaster_id                                                    \n5d1c466a-9cfd-11e9-9897-000d3a38a36f                    202.0\ncba59206-9dd1-11e9-9897-000d3a38a36f                    131.0\na57f4302-b1a8-11e9-89fa-000d3a38a36f                    111.0\nfdbe8304-a7ab-11e9-a2fc-000d3a38a36f                     88.0\n329968c6-a0e2-11e9-a2fc-000d3a38a36f                     83.0\n73fd19aa-9e37-11e9-9897-000d3a38a36f                     82.0\n44d032ee-a0d4-11e9-a2fc-000d3a38a36f                     77.0\nb27e241a-a901-11e9-a2fc-000d3a38a36f                     75.0\nd696c654-2633-11ea-8e1c-000d3a38a36f                     70.0\na4d534a2-5b1b-11eb-8dbd-000d3a38a36f                     70.0",
      "text/html": "<div>\n<style scoped>\n    .dataframe tbody tr th:only-of-type {\n        vertical-align: middle;\n    }\n\n    .dataframe tbody tr th {\n        vertical-align: top;\n    }\n\n    .dataframe thead th {\n        text-align: right;\n    }\n</style>\n<table border=\"1\" class=\"dataframe\">\n  <thead>\n    <tr style=\"text-align: right;\">\n      <th></th>\n      <th>toplam_alisveris_sayisi</th>\n    </tr>\n    <tr>\n      <th>master_id</th>\n      <th></th>\n    </tr>\n  </thead>\n  <tbody>\n    <tr>\n      <th>5d1c466a-9cfd-11e9-9897-000d3a38a36f</th>\n      <td>202.0</td>\n    </tr>\n    <tr>\n      <th>cba59206-9dd1-11e9-9897-000d3a38a36f</th>\n      <td>131.0</td>\n    </tr>\n    <tr>\n      <th>a57f4302-b1a8-11e9-89fa-000d3a38a36f</th>\n      <td>111.0</td>\n    </tr>\n    <tr>\n      <th>fdbe8304-a7ab-11e9-a2fc-000d3a38a36f</th>\n      <td>88.0</td>\n    </tr>\n    <tr>\n      <th>329968c6-a0e2-11e9-a2fc-000d3a38a36f</th>\n      <td>83.0</td>\n    </tr>\n    <tr>\n      <th>73fd19aa-9e37-11e9-9897-000d3a38a36f</th>\n      <td>82.0</td>\n    </tr>\n    <tr>\n      <th>44d032ee-a0d4-11e9-a2fc-000d3a38a36f</th>\n      <td>77.0</td>\n    </tr>\n    <tr>\n      <th>b27e241a-a901-11e9-a2fc-000d3a38a36f</th>\n      <td>75.0</td>\n    </tr>\n    <tr>\n      <th>d696c654-2633-11ea-8e1c-000d3a38a36f</th>\n      <td>70.0</td>\n    </tr>\n    <tr>\n      <th>a4d534a2-5b1b-11eb-8dbd-000d3a38a36f</th>\n      <td>70.0</td>\n    </tr>\n  </tbody>\n</table>\n</div>"
     },
     "execution_count": 14,
     "metadata": {},
     "output_type": "execute_result"
    }
   ],
   "source": [
    "# 7. En fazla siparişi veren ilk 10 müşteriyi sıralayınız.\n",
    "df.groupby('master_id').agg({'toplam_alisveris_sayisi': 'sum'}).sort_values(by='toplam_alisveris_sayisi', ascending=False).head(10)"
   ],
   "metadata": {
    "collapsed": false,
    "ExecuteTime": {
     "end_time": "2024-09-08T20:50:12.917677Z",
     "start_time": "2024-09-08T20:50:12.894324Z"
    }
   },
   "id": "1ca01c2e78813d57",
   "execution_count": 14
  },
  {
   "cell_type": "code",
   "outputs": [
    {
     "data": {
      "text/plain": "                              master_id order_channel last_order_channel  \\\n0  cc294636-19f0-11eb-8d74-000d3a38a36f   Android App            Offline   \n1  f431bd5a-ab7b-11e9-a2fc-000d3a38a36f   Android App             Mobile   \n2  69b69676-1a40-11ea-941b-000d3a38a36f   Android App        Android App   \n3  1854e56c-491f-11eb-806e-000d3a38a36f   Android App        Android App   \n4  d6ea1074-f1f5-11e9-9346-000d3a38a36f       Desktop            Desktop   \n\n  first_order_date last_order_date last_order_date_online  \\\n0       2020-10-30      2021-02-26             2021-02-21   \n1       2017-02-08      2021-02-16             2021-02-16   \n2       2019-11-27      2020-11-27             2020-11-27   \n3       2021-01-06      2021-01-17             2021-01-17   \n4       2019-08-03      2021-03-07             2021-03-07   \n\n  last_order_date_offline  order_num_total_ever_online  \\\n0              2021-02-26                          4.0   \n1              2020-01-10                         19.0   \n2              2019-12-01                          3.0   \n3              2021-01-06                          1.0   \n4              2019-08-03                          1.0   \n\n   order_num_total_ever_offline  customer_value_total_ever_offline  \\\n0                           1.0                             139.99   \n1                           2.0                             159.97   \n2                           2.0                             189.97   \n3                           1.0                              39.99   \n4                           1.0                              49.99   \n\n   customer_value_total_ever_online       interested_in_categories_12  \\\n0                            799.38                           [KADIN]   \n1                           1853.58  [ERKEK, COCUK, KADIN, AKTIFSPOR]   \n2                            395.35                    [ERKEK, KADIN]   \n3                             81.98               [AKTIFCOCUK, COCUK]   \n4                            159.99                       [AKTIFSPOR]   \n\n   toplam_alisveris_sayisi  toplam_harcama  \n0                      5.0          939.37  \n1                     21.0         2013.55  \n2                      5.0          585.32  \n3                      2.0          121.97  \n4                      2.0          209.98  ",
      "text/html": "<div>\n<style scoped>\n    .dataframe tbody tr th:only-of-type {\n        vertical-align: middle;\n    }\n\n    .dataframe tbody tr th {\n        vertical-align: top;\n    }\n\n    .dataframe thead th {\n        text-align: right;\n    }\n</style>\n<table border=\"1\" class=\"dataframe\">\n  <thead>\n    <tr style=\"text-align: right;\">\n      <th></th>\n      <th>master_id</th>\n      <th>order_channel</th>\n      <th>last_order_channel</th>\n      <th>first_order_date</th>\n      <th>last_order_date</th>\n      <th>last_order_date_online</th>\n      <th>last_order_date_offline</th>\n      <th>order_num_total_ever_online</th>\n      <th>order_num_total_ever_offline</th>\n      <th>customer_value_total_ever_offline</th>\n      <th>customer_value_total_ever_online</th>\n      <th>interested_in_categories_12</th>\n      <th>toplam_alisveris_sayisi</th>\n      <th>toplam_harcama</th>\n    </tr>\n  </thead>\n  <tbody>\n    <tr>\n      <th>0</th>\n      <td>cc294636-19f0-11eb-8d74-000d3a38a36f</td>\n      <td>Android App</td>\n      <td>Offline</td>\n      <td>2020-10-30</td>\n      <td>2021-02-26</td>\n      <td>2021-02-21</td>\n      <td>2021-02-26</td>\n      <td>4.0</td>\n      <td>1.0</td>\n      <td>139.99</td>\n      <td>799.38</td>\n      <td>[KADIN]</td>\n      <td>5.0</td>\n      <td>939.37</td>\n    </tr>\n    <tr>\n      <th>1</th>\n      <td>f431bd5a-ab7b-11e9-a2fc-000d3a38a36f</td>\n      <td>Android App</td>\n      <td>Mobile</td>\n      <td>2017-02-08</td>\n      <td>2021-02-16</td>\n      <td>2021-02-16</td>\n      <td>2020-01-10</td>\n      <td>19.0</td>\n      <td>2.0</td>\n      <td>159.97</td>\n      <td>1853.58</td>\n      <td>[ERKEK, COCUK, KADIN, AKTIFSPOR]</td>\n      <td>21.0</td>\n      <td>2013.55</td>\n    </tr>\n    <tr>\n      <th>2</th>\n      <td>69b69676-1a40-11ea-941b-000d3a38a36f</td>\n      <td>Android App</td>\n      <td>Android App</td>\n      <td>2019-11-27</td>\n      <td>2020-11-27</td>\n      <td>2020-11-27</td>\n      <td>2019-12-01</td>\n      <td>3.0</td>\n      <td>2.0</td>\n      <td>189.97</td>\n      <td>395.35</td>\n      <td>[ERKEK, KADIN]</td>\n      <td>5.0</td>\n      <td>585.32</td>\n    </tr>\n    <tr>\n      <th>3</th>\n      <td>1854e56c-491f-11eb-806e-000d3a38a36f</td>\n      <td>Android App</td>\n      <td>Android App</td>\n      <td>2021-01-06</td>\n      <td>2021-01-17</td>\n      <td>2021-01-17</td>\n      <td>2021-01-06</td>\n      <td>1.0</td>\n      <td>1.0</td>\n      <td>39.99</td>\n      <td>81.98</td>\n      <td>[AKTIFCOCUK, COCUK]</td>\n      <td>2.0</td>\n      <td>121.97</td>\n    </tr>\n    <tr>\n      <th>4</th>\n      <td>d6ea1074-f1f5-11e9-9346-000d3a38a36f</td>\n      <td>Desktop</td>\n      <td>Desktop</td>\n      <td>2019-08-03</td>\n      <td>2021-03-07</td>\n      <td>2021-03-07</td>\n      <td>2019-08-03</td>\n      <td>1.0</td>\n      <td>1.0</td>\n      <td>49.99</td>\n      <td>159.99</td>\n      <td>[AKTIFSPOR]</td>\n      <td>2.0</td>\n      <td>209.98</td>\n    </tr>\n  </tbody>\n</table>\n</div>"
     },
     "execution_count": 15,
     "metadata": {},
     "output_type": "execute_result"
    }
   ],
   "source": [
    "# 8. Veri ön hazırlık sürecini fonksiyonlaştırınız.\n",
    "\n",
    "def data_preprocessing(dataframe):\n",
    "    dataframe['toplam_alisveris_sayisi'] = dataframe[\"order_num_total_ever_online\"] + dataframe[\"order_num_total_ever_offline\"]\n",
    "    dataframe[\"toplam_harcama\"] = dataframe[\"customer_value_total_ever_offline\"] + dataframe[\"customer_value_total_ever_online\"]\n",
    "    convert = [\"first_order_date\", \"last_order_date\", \"last_order_date_online\", \"last_order_date_offline\"]\n",
    "    dataframe[convert] = dataframe[convert].apply(pd.to_datetime)\n",
    "\n",
    "    dataframe.groupby('order_channel').agg({'toplam_alisveris_sayisi':'mean',\n",
    "                                    'toplam_harcama':'mean',\n",
    "                                     })\n",
    "\n",
    "    dataframe.groupby('master_id').agg({'toplam_harcama': 'sum'}).sort_values(by='toplam_harcama', ascending=False).head(10)\n",
    "    dataframe.groupby('master_id').agg({'toplam_alisveris_sayisi': 'sum'}).sort_values(by='toplam_alisveris_sayisi',ascending=False).head(10)\n",
    "\n",
    "\n",
    "data_preprocessing(df)\n",
    "\n",
    "df.head()\n"
   ],
   "metadata": {
    "collapsed": false,
    "ExecuteTime": {
     "end_time": "2024-09-08T20:50:29.233656Z",
     "start_time": "2024-09-08T20:50:29.158685Z"
    }
   },
   "id": "567f4ce56bd023ef",
   "execution_count": 15
  },
  {
   "cell_type": "code",
   "outputs": [
    {
     "data": {
      "text/plain": "Timestamp('2021-05-30 00:00:00')"
     },
     "execution_count": 18,
     "metadata": {},
     "output_type": "execute_result"
    }
   ],
   "source": [
    "# GÖREV 2: RFM Metriklerinin Hesaplanması\n",
    "\n",
    "# Recency, Frequency, Monetary\n",
    "df.head()\n",
    "df[\"last_order_date\"].max() # 2021-05-30"
   ],
   "metadata": {
    "collapsed": false,
    "ExecuteTime": {
     "end_time": "2024-09-08T20:51:19.109654Z",
     "start_time": "2024-09-08T20:51:19.106541Z"
    }
   },
   "id": "bb1f2d6ae9241665",
   "execution_count": 18
  },
  {
   "cell_type": "code",
   "outputs": [
    {
     "data": {
      "text/plain": "datetime.datetime"
     },
     "execution_count": 19,
     "metadata": {},
     "output_type": "execute_result"
    }
   ],
   "source": [
    "today_date = dt.datetime(2021, 7, 1)\n",
    "type(today_date)\n"
   ],
   "metadata": {
    "collapsed": false,
    "ExecuteTime": {
     "end_time": "2024-09-08T20:51:26.467552Z",
     "start_time": "2024-09-08T20:51:26.464328Z"
    }
   },
   "id": "4da3e7f0c9108813",
   "execution_count": 19
  },
  {
   "cell_type": "code",
   "outputs": [
    {
     "data": {
      "text/plain": "                                      recency  frequency  monetary\nmaster_id                                                         \n00016786-2f5a-11ea-bb80-000d3a38a36f       40        5.0    776.07\n00034aaa-a838-11e9-a2fc-000d3a38a36f      328        3.0    269.47\n000be838-85df-11ea-a90b-000d3a38a36f      243        4.0    722.69\n000c1fe2-a8b7-11ea-8479-000d3a38a36f       57        7.0    874.16\n000f5e3e-9dde-11ea-80cd-000d3a38a36f       50        7.0   1620.33\n00136ce2-a562-11e9-a2fc-000d3a38a36f      233        2.0    359.45\n00142f9a-7af6-11eb-8460-000d3a38a36f       55        3.0    404.94\n0014778a-5b11-11ea-9a2c-000d3a38a36f       56        3.0    727.43\n0018c6aa-ab6c-11e9-a2fc-000d3a38a36f      156        2.0    317.91\n0022f41e-5597-11eb-9e65-000d3a38a36f       42        2.0    154.98",
      "text/html": "<div>\n<style scoped>\n    .dataframe tbody tr th:only-of-type {\n        vertical-align: middle;\n    }\n\n    .dataframe tbody tr th {\n        vertical-align: top;\n    }\n\n    .dataframe thead th {\n        text-align: right;\n    }\n</style>\n<table border=\"1\" class=\"dataframe\">\n  <thead>\n    <tr style=\"text-align: right;\">\n      <th></th>\n      <th>recency</th>\n      <th>frequency</th>\n      <th>monetary</th>\n    </tr>\n    <tr>\n      <th>master_id</th>\n      <th></th>\n      <th></th>\n      <th></th>\n    </tr>\n  </thead>\n  <tbody>\n    <tr>\n      <th>00016786-2f5a-11ea-bb80-000d3a38a36f</th>\n      <td>40</td>\n      <td>5.0</td>\n      <td>776.07</td>\n    </tr>\n    <tr>\n      <th>00034aaa-a838-11e9-a2fc-000d3a38a36f</th>\n      <td>328</td>\n      <td>3.0</td>\n      <td>269.47</td>\n    </tr>\n    <tr>\n      <th>000be838-85df-11ea-a90b-000d3a38a36f</th>\n      <td>243</td>\n      <td>4.0</td>\n      <td>722.69</td>\n    </tr>\n    <tr>\n      <th>000c1fe2-a8b7-11ea-8479-000d3a38a36f</th>\n      <td>57</td>\n      <td>7.0</td>\n      <td>874.16</td>\n    </tr>\n    <tr>\n      <th>000f5e3e-9dde-11ea-80cd-000d3a38a36f</th>\n      <td>50</td>\n      <td>7.0</td>\n      <td>1620.33</td>\n    </tr>\n    <tr>\n      <th>00136ce2-a562-11e9-a2fc-000d3a38a36f</th>\n      <td>233</td>\n      <td>2.0</td>\n      <td>359.45</td>\n    </tr>\n    <tr>\n      <th>00142f9a-7af6-11eb-8460-000d3a38a36f</th>\n      <td>55</td>\n      <td>3.0</td>\n      <td>404.94</td>\n    </tr>\n    <tr>\n      <th>0014778a-5b11-11ea-9a2c-000d3a38a36f</th>\n      <td>56</td>\n      <td>3.0</td>\n      <td>727.43</td>\n    </tr>\n    <tr>\n      <th>0018c6aa-ab6c-11e9-a2fc-000d3a38a36f</th>\n      <td>156</td>\n      <td>2.0</td>\n      <td>317.91</td>\n    </tr>\n    <tr>\n      <th>0022f41e-5597-11eb-9e65-000d3a38a36f</th>\n      <td>42</td>\n      <td>2.0</td>\n      <td>154.98</td>\n    </tr>\n  </tbody>\n</table>\n</div>"
     },
     "execution_count": 22,
     "metadata": {},
     "output_type": "execute_result"
    }
   ],
   "source": [
    "rfm = df.groupby(\"master_id\").agg({\n",
    "    \"last_order_date\": lambda date: (today_date -date.max()).days,\n",
    "    \"toplam_alisveris_sayisi\": lambda alisveris: alisveris.sum(),\n",
    "    \"toplam_harcama\": lambda TotalPrice: TotalPrice.sum()\n",
    "})\n",
    "rfm.columns = [\"recency\", \"frequency\", \"monetary\"]\n",
    "\n",
    "rfm.head(10)"
   ],
   "metadata": {
    "collapsed": false,
    "ExecuteTime": {
     "end_time": "2024-09-08T20:52:09.508911Z",
     "start_time": "2024-09-08T20:52:08.085833Z"
    }
   },
   "id": "9b4c709488d21988",
   "execution_count": 22
  },
  {
   "cell_type": "code",
   "outputs": [],
   "source": [
    "# GÖREV 3: RF ve RFM Skorlarının Hesaplanması\n",
    "rfm[\"recency_score\"] = pd.qcut(rfm[\"recency\"], 5, labels=[5, 4, 3, 2, 1])\n",
    "rfm[\"frequency_score\"] = pd.qcut(rfm[\"frequency\"].rank(method=\"first\"), 5, labels=[1, 2, 3, 4, 5])\n",
    "rfm[\"monetary_score\"] = pd.qcut(rfm[\"monetary\"], 5, labels=[1, 2, 3, 4, 5])"
   ],
   "metadata": {
    "collapsed": false,
    "ExecuteTime": {
     "end_time": "2024-09-08T20:52:31.458461Z",
     "start_time": "2024-09-08T20:52:31.446091Z"
    }
   },
   "id": "5825cb301b01e13e",
   "execution_count": 23
  },
  {
   "cell_type": "code",
   "outputs": [
    {
     "data": {
      "text/plain": "                                      recency  frequency  monetary  \\\nmaster_id                                                            \n00016786-2f5a-11ea-bb80-000d3a38a36f       40        5.0    776.07   \n00034aaa-a838-11e9-a2fc-000d3a38a36f      328        3.0    269.47   \n000be838-85df-11ea-a90b-000d3a38a36f      243        4.0    722.69   \n000c1fe2-a8b7-11ea-8479-000d3a38a36f       57        7.0    874.16   \n000f5e3e-9dde-11ea-80cd-000d3a38a36f       50        7.0   1620.33   \n\n                                     recency_score frequency_score  \\\nmaster_id                                                            \n00016786-2f5a-11ea-bb80-000d3a38a36f             5               4   \n00034aaa-a838-11e9-a2fc-000d3a38a36f             1               2   \n000be838-85df-11ea-a90b-000d3a38a36f             2               3   \n000c1fe2-a8b7-11ea-8479-000d3a38a36f             5               4   \n000f5e3e-9dde-11ea-80cd-000d3a38a36f             5               4   \n\n                                     monetary_score RFM_SCORE  \nmaster_id                                                      \n00016786-2f5a-11ea-bb80-000d3a38a36f              4        54  \n00034aaa-a838-11e9-a2fc-000d3a38a36f              1        12  \n000be838-85df-11ea-a90b-000d3a38a36f              4        23  \n000c1fe2-a8b7-11ea-8479-000d3a38a36f              4        54  \n000f5e3e-9dde-11ea-80cd-000d3a38a36f              5        54  ",
      "text/html": "<div>\n<style scoped>\n    .dataframe tbody tr th:only-of-type {\n        vertical-align: middle;\n    }\n\n    .dataframe tbody tr th {\n        vertical-align: top;\n    }\n\n    .dataframe thead th {\n        text-align: right;\n    }\n</style>\n<table border=\"1\" class=\"dataframe\">\n  <thead>\n    <tr style=\"text-align: right;\">\n      <th></th>\n      <th>recency</th>\n      <th>frequency</th>\n      <th>monetary</th>\n      <th>recency_score</th>\n      <th>frequency_score</th>\n      <th>monetary_score</th>\n      <th>RFM_SCORE</th>\n    </tr>\n    <tr>\n      <th>master_id</th>\n      <th></th>\n      <th></th>\n      <th></th>\n      <th></th>\n      <th></th>\n      <th></th>\n      <th></th>\n    </tr>\n  </thead>\n  <tbody>\n    <tr>\n      <th>00016786-2f5a-11ea-bb80-000d3a38a36f</th>\n      <td>40</td>\n      <td>5.0</td>\n      <td>776.07</td>\n      <td>5</td>\n      <td>4</td>\n      <td>4</td>\n      <td>54</td>\n    </tr>\n    <tr>\n      <th>00034aaa-a838-11e9-a2fc-000d3a38a36f</th>\n      <td>328</td>\n      <td>3.0</td>\n      <td>269.47</td>\n      <td>1</td>\n      <td>2</td>\n      <td>1</td>\n      <td>12</td>\n    </tr>\n    <tr>\n      <th>000be838-85df-11ea-a90b-000d3a38a36f</th>\n      <td>243</td>\n      <td>4.0</td>\n      <td>722.69</td>\n      <td>2</td>\n      <td>3</td>\n      <td>4</td>\n      <td>23</td>\n    </tr>\n    <tr>\n      <th>000c1fe2-a8b7-11ea-8479-000d3a38a36f</th>\n      <td>57</td>\n      <td>7.0</td>\n      <td>874.16</td>\n      <td>5</td>\n      <td>4</td>\n      <td>4</td>\n      <td>54</td>\n    </tr>\n    <tr>\n      <th>000f5e3e-9dde-11ea-80cd-000d3a38a36f</th>\n      <td>50</td>\n      <td>7.0</td>\n      <td>1620.33</td>\n      <td>5</td>\n      <td>4</td>\n      <td>5</td>\n      <td>54</td>\n    </tr>\n  </tbody>\n</table>\n</div>"
     },
     "execution_count": 24,
     "metadata": {},
     "output_type": "execute_result"
    }
   ],
   "source": [
    "rfm[\"RFM_SCORE\"] = (rfm[\"recency_score\"].astype(str) +\n",
    "                    rfm[\"frequency_score\"].astype(str))\n",
    "\n",
    "rfm.head()"
   ],
   "metadata": {
    "collapsed": false,
    "ExecuteTime": {
     "end_time": "2024-09-08T20:52:52.063496Z",
     "start_time": "2024-09-08T20:52:52.052381Z"
    }
   },
   "id": "c4a9725d3b50698d",
   "execution_count": 24
  },
  {
   "cell_type": "code",
   "outputs": [
    {
     "data": {
      "text/plain": "                                      recency  frequency  monetary  \\\nmaster_id                                                            \n00016786-2f5a-11ea-bb80-000d3a38a36f       40        5.0    776.07   \n00034aaa-a838-11e9-a2fc-000d3a38a36f      328        3.0    269.47   \n000be838-85df-11ea-a90b-000d3a38a36f      243        4.0    722.69   \n000c1fe2-a8b7-11ea-8479-000d3a38a36f       57        7.0    874.16   \n000f5e3e-9dde-11ea-80cd-000d3a38a36f       50        7.0   1620.33   \n\n                                     recency_score frequency_score  \\\nmaster_id                                                            \n00016786-2f5a-11ea-bb80-000d3a38a36f             5               4   \n00034aaa-a838-11e9-a2fc-000d3a38a36f             1               2   \n000be838-85df-11ea-a90b-000d3a38a36f             2               3   \n000c1fe2-a8b7-11ea-8479-000d3a38a36f             5               4   \n000f5e3e-9dde-11ea-80cd-000d3a38a36f             5               4   \n\n                                     monetary_score RFM_SCORE      segment  \nmaster_id                                                                   \n00016786-2f5a-11ea-bb80-000d3a38a36f              4        54    champions  \n00034aaa-a838-11e9-a2fc-000d3a38a36f              1        12  hibernating  \n000be838-85df-11ea-a90b-000d3a38a36f              4        23      at_risk  \n000c1fe2-a8b7-11ea-8479-000d3a38a36f              4        54    champions  \n000f5e3e-9dde-11ea-80cd-000d3a38a36f              5        54    champions  ",
      "text/html": "<div>\n<style scoped>\n    .dataframe tbody tr th:only-of-type {\n        vertical-align: middle;\n    }\n\n    .dataframe tbody tr th {\n        vertical-align: top;\n    }\n\n    .dataframe thead th {\n        text-align: right;\n    }\n</style>\n<table border=\"1\" class=\"dataframe\">\n  <thead>\n    <tr style=\"text-align: right;\">\n      <th></th>\n      <th>recency</th>\n      <th>frequency</th>\n      <th>monetary</th>\n      <th>recency_score</th>\n      <th>frequency_score</th>\n      <th>monetary_score</th>\n      <th>RFM_SCORE</th>\n      <th>segment</th>\n    </tr>\n    <tr>\n      <th>master_id</th>\n      <th></th>\n      <th></th>\n      <th></th>\n      <th></th>\n      <th></th>\n      <th></th>\n      <th></th>\n      <th></th>\n    </tr>\n  </thead>\n  <tbody>\n    <tr>\n      <th>00016786-2f5a-11ea-bb80-000d3a38a36f</th>\n      <td>40</td>\n      <td>5.0</td>\n      <td>776.07</td>\n      <td>5</td>\n      <td>4</td>\n      <td>4</td>\n      <td>54</td>\n      <td>champions</td>\n    </tr>\n    <tr>\n      <th>00034aaa-a838-11e9-a2fc-000d3a38a36f</th>\n      <td>328</td>\n      <td>3.0</td>\n      <td>269.47</td>\n      <td>1</td>\n      <td>2</td>\n      <td>1</td>\n      <td>12</td>\n      <td>hibernating</td>\n    </tr>\n    <tr>\n      <th>000be838-85df-11ea-a90b-000d3a38a36f</th>\n      <td>243</td>\n      <td>4.0</td>\n      <td>722.69</td>\n      <td>2</td>\n      <td>3</td>\n      <td>4</td>\n      <td>23</td>\n      <td>at_risk</td>\n    </tr>\n    <tr>\n      <th>000c1fe2-a8b7-11ea-8479-000d3a38a36f</th>\n      <td>57</td>\n      <td>7.0</td>\n      <td>874.16</td>\n      <td>5</td>\n      <td>4</td>\n      <td>4</td>\n      <td>54</td>\n      <td>champions</td>\n    </tr>\n    <tr>\n      <th>000f5e3e-9dde-11ea-80cd-000d3a38a36f</th>\n      <td>50</td>\n      <td>7.0</td>\n      <td>1620.33</td>\n      <td>5</td>\n      <td>4</td>\n      <td>5</td>\n      <td>54</td>\n      <td>champions</td>\n    </tr>\n  </tbody>\n</table>\n</div>"
     },
     "execution_count": 25,
     "metadata": {},
     "output_type": "execute_result"
    }
   ],
   "source": [
    "# GÖREV 4: RF Skorlarının Segment Olarak Tanımlanması\n",
    "\n",
    "seg_map = {\n",
    "    r\"[1-2][1-2]\" : \"hibernating\",\n",
    "    r\"[1-2][3-4]\" : \"at_risk\",\n",
    "    r\"[1-2]5\": \"cant_loose\",\n",
    "    r\"3[1-2]\": \"about_to_sleep\",\n",
    "    r\"33\": \"need_attention\",\n",
    "    r\"[3-4][4-5]\": \"loyal_customers\",\n",
    "    r\"41\": \"promising\",\n",
    "    r\"51\": \"new_customers\",\n",
    "    r\"[4-5][2-3]\": \"potential_loyalists\",\n",
    "    r\"5[4-5]\": \"champions\",\n",
    "}\n",
    "\n",
    "rfm[\"segment\"] = rfm[\"RFM_SCORE\"].replace(seg_map, regex=True) # birleştirilen skorlar seg_map i\n",
    "\n",
    "rfm.head()"
   ],
   "metadata": {
    "collapsed": false,
    "ExecuteTime": {
     "end_time": "2024-09-08T20:53:11.449718Z",
     "start_time": "2024-09-08T20:53:11.352876Z"
    }
   },
   "id": "5944bba6baee93fa",
   "execution_count": 25
  },
  {
   "cell_type": "code",
   "outputs": [
    {
     "data": {
      "text/plain": "                        recency        frequency           monetary      \n                           mean count       mean count         mean count\nsegment                                                                  \nabout_to_sleep       144.031649  1643   2.406573  1643   361.649373  1643\nat_risk              272.328997  3152   4.470178  3152   648.325038  3152\ncant_loose           265.159129  1194  10.716918  1194  1481.652446  1194\nchampions             47.142187  1920   8.965104  1920  1410.708938  1920\nhibernating          277.426303  3589   2.391474  3589   362.583299  3589\nloyal_customers      112.557926  3375   8.356444  3375  1216.257224  3375\nneed_attention       143.037221   806   3.739454   806   553.436638   806\nnew_customers         47.976226   673   2.000000   673   344.049495   673\npotential_loyalists   66.869744  2925   3.310769  2925   533.741344  2925\npromising             88.694611   668   2.000000   668   334.153338   668",
      "text/html": "<div>\n<style scoped>\n    .dataframe tbody tr th:only-of-type {\n        vertical-align: middle;\n    }\n\n    .dataframe tbody tr th {\n        vertical-align: top;\n    }\n\n    .dataframe thead tr th {\n        text-align: left;\n    }\n\n    .dataframe thead tr:last-of-type th {\n        text-align: right;\n    }\n</style>\n<table border=\"1\" class=\"dataframe\">\n  <thead>\n    <tr>\n      <th></th>\n      <th colspan=\"2\" halign=\"left\">recency</th>\n      <th colspan=\"2\" halign=\"left\">frequency</th>\n      <th colspan=\"2\" halign=\"left\">monetary</th>\n    </tr>\n    <tr>\n      <th></th>\n      <th>mean</th>\n      <th>count</th>\n      <th>mean</th>\n      <th>count</th>\n      <th>mean</th>\n      <th>count</th>\n    </tr>\n    <tr>\n      <th>segment</th>\n      <th></th>\n      <th></th>\n      <th></th>\n      <th></th>\n      <th></th>\n      <th></th>\n    </tr>\n  </thead>\n  <tbody>\n    <tr>\n      <th>about_to_sleep</th>\n      <td>144.031649</td>\n      <td>1643</td>\n      <td>2.406573</td>\n      <td>1643</td>\n      <td>361.649373</td>\n      <td>1643</td>\n    </tr>\n    <tr>\n      <th>at_risk</th>\n      <td>272.328997</td>\n      <td>3152</td>\n      <td>4.470178</td>\n      <td>3152</td>\n      <td>648.325038</td>\n      <td>3152</td>\n    </tr>\n    <tr>\n      <th>cant_loose</th>\n      <td>265.159129</td>\n      <td>1194</td>\n      <td>10.716918</td>\n      <td>1194</td>\n      <td>1481.652446</td>\n      <td>1194</td>\n    </tr>\n    <tr>\n      <th>champions</th>\n      <td>47.142187</td>\n      <td>1920</td>\n      <td>8.965104</td>\n      <td>1920</td>\n      <td>1410.708938</td>\n      <td>1920</td>\n    </tr>\n    <tr>\n      <th>hibernating</th>\n      <td>277.426303</td>\n      <td>3589</td>\n      <td>2.391474</td>\n      <td>3589</td>\n      <td>362.583299</td>\n      <td>3589</td>\n    </tr>\n    <tr>\n      <th>loyal_customers</th>\n      <td>112.557926</td>\n      <td>3375</td>\n      <td>8.356444</td>\n      <td>3375</td>\n      <td>1216.257224</td>\n      <td>3375</td>\n    </tr>\n    <tr>\n      <th>need_attention</th>\n      <td>143.037221</td>\n      <td>806</td>\n      <td>3.739454</td>\n      <td>806</td>\n      <td>553.436638</td>\n      <td>806</td>\n    </tr>\n    <tr>\n      <th>new_customers</th>\n      <td>47.976226</td>\n      <td>673</td>\n      <td>2.000000</td>\n      <td>673</td>\n      <td>344.049495</td>\n      <td>673</td>\n    </tr>\n    <tr>\n      <th>potential_loyalists</th>\n      <td>66.869744</td>\n      <td>2925</td>\n      <td>3.310769</td>\n      <td>2925</td>\n      <td>533.741344</td>\n      <td>2925</td>\n    </tr>\n    <tr>\n      <th>promising</th>\n      <td>88.694611</td>\n      <td>668</td>\n      <td>2.000000</td>\n      <td>668</td>\n      <td>334.153338</td>\n      <td>668</td>\n    </tr>\n  </tbody>\n</table>\n</div>"
     },
     "execution_count": 26,
     "metadata": {},
     "output_type": "execute_result"
    }
   ],
   "source": [
    "# GÖREV 5: Aksiyon zamanı!\n",
    "# 1. Segmentlerin recency, frequnecy ve monetary ortalamalarını inceleyiniz.\n",
    "\n",
    "rfm[[\"segment\", \"recency\", \"frequency\", \"monetary\"]].groupby(\"segment\").agg([\"mean\", \"count\"])\n"
   ],
   "metadata": {
    "collapsed": false,
    "ExecuteTime": {
     "end_time": "2024-09-08T20:53:28.911053Z",
     "start_time": "2024-09-08T20:53:28.901092Z"
    }
   },
   "id": "5e4c220ab146ae73",
   "execution_count": 26
  },
  {
   "cell_type": "code",
   "outputs": [
    {
     "data": {
      "text/plain": "                              master_id order_channel last_order_channel  \\\n0  cc294636-19f0-11eb-8d74-000d3a38a36f   Android App            Offline   \n1  f431bd5a-ab7b-11e9-a2fc-000d3a38a36f   Android App             Mobile   \n2  69b69676-1a40-11ea-941b-000d3a38a36f   Android App        Android App   \n3  1854e56c-491f-11eb-806e-000d3a38a36f   Android App        Android App   \n4  d6ea1074-f1f5-11e9-9346-000d3a38a36f       Desktop            Desktop   \n\n  first_order_date last_order_date last_order_date_online  \\\n0       2020-10-30      2021-02-26             2021-02-21   \n1       2017-02-08      2021-02-16             2021-02-16   \n2       2019-11-27      2020-11-27             2020-11-27   \n3       2021-01-06      2021-01-17             2021-01-17   \n4       2019-08-03      2021-03-07             2021-03-07   \n\n  last_order_date_offline  order_num_total_ever_online  \\\n0              2021-02-26                          4.0   \n1              2020-01-10                         19.0   \n2              2019-12-01                          3.0   \n3              2021-01-06                          1.0   \n4              2019-08-03                          1.0   \n\n   order_num_total_ever_offline  customer_value_total_ever_offline  ...  \\\n0                           1.0                             139.99  ...   \n1                           2.0                             159.97  ...   \n2                           2.0                             189.97  ...   \n3                           1.0                              39.99  ...   \n4                           1.0                              49.99  ...   \n\n   toplam_alisveris_sayisi toplam_harcama  recency  frequency  monetary  \\\n0                      5.0         939.37      125        5.0    939.37   \n1                     21.0        2013.55      135       21.0   2013.55   \n2                      5.0         585.32      216        5.0    585.32   \n3                      2.0         121.97      165        2.0    121.97   \n4                      2.0         209.98      116        2.0    209.98   \n\n   recency_score  frequency_score monetary_score RFM_SCORE          segment  \n0              3                4              4        34  loyal_customers  \n1              3                5              5        35  loyal_customers  \n2              2                4              3        24          at_risk  \n3              3                1              1        31   about_to_sleep  \n4              3                1              1        31   about_to_sleep  \n\n[5 rows x 22 columns]",
      "text/html": "<div>\n<style scoped>\n    .dataframe tbody tr th:only-of-type {\n        vertical-align: middle;\n    }\n\n    .dataframe tbody tr th {\n        vertical-align: top;\n    }\n\n    .dataframe thead th {\n        text-align: right;\n    }\n</style>\n<table border=\"1\" class=\"dataframe\">\n  <thead>\n    <tr style=\"text-align: right;\">\n      <th></th>\n      <th>master_id</th>\n      <th>order_channel</th>\n      <th>last_order_channel</th>\n      <th>first_order_date</th>\n      <th>last_order_date</th>\n      <th>last_order_date_online</th>\n      <th>last_order_date_offline</th>\n      <th>order_num_total_ever_online</th>\n      <th>order_num_total_ever_offline</th>\n      <th>customer_value_total_ever_offline</th>\n      <th>...</th>\n      <th>toplam_alisveris_sayisi</th>\n      <th>toplam_harcama</th>\n      <th>recency</th>\n      <th>frequency</th>\n      <th>monetary</th>\n      <th>recency_score</th>\n      <th>frequency_score</th>\n      <th>monetary_score</th>\n      <th>RFM_SCORE</th>\n      <th>segment</th>\n    </tr>\n  </thead>\n  <tbody>\n    <tr>\n      <th>0</th>\n      <td>cc294636-19f0-11eb-8d74-000d3a38a36f</td>\n      <td>Android App</td>\n      <td>Offline</td>\n      <td>2020-10-30</td>\n      <td>2021-02-26</td>\n      <td>2021-02-21</td>\n      <td>2021-02-26</td>\n      <td>4.0</td>\n      <td>1.0</td>\n      <td>139.99</td>\n      <td>...</td>\n      <td>5.0</td>\n      <td>939.37</td>\n      <td>125</td>\n      <td>5.0</td>\n      <td>939.37</td>\n      <td>3</td>\n      <td>4</td>\n      <td>4</td>\n      <td>34</td>\n      <td>loyal_customers</td>\n    </tr>\n    <tr>\n      <th>1</th>\n      <td>f431bd5a-ab7b-11e9-a2fc-000d3a38a36f</td>\n      <td>Android App</td>\n      <td>Mobile</td>\n      <td>2017-02-08</td>\n      <td>2021-02-16</td>\n      <td>2021-02-16</td>\n      <td>2020-01-10</td>\n      <td>19.0</td>\n      <td>2.0</td>\n      <td>159.97</td>\n      <td>...</td>\n      <td>21.0</td>\n      <td>2013.55</td>\n      <td>135</td>\n      <td>21.0</td>\n      <td>2013.55</td>\n      <td>3</td>\n      <td>5</td>\n      <td>5</td>\n      <td>35</td>\n      <td>loyal_customers</td>\n    </tr>\n    <tr>\n      <th>2</th>\n      <td>69b69676-1a40-11ea-941b-000d3a38a36f</td>\n      <td>Android App</td>\n      <td>Android App</td>\n      <td>2019-11-27</td>\n      <td>2020-11-27</td>\n      <td>2020-11-27</td>\n      <td>2019-12-01</td>\n      <td>3.0</td>\n      <td>2.0</td>\n      <td>189.97</td>\n      <td>...</td>\n      <td>5.0</td>\n      <td>585.32</td>\n      <td>216</td>\n      <td>5.0</td>\n      <td>585.32</td>\n      <td>2</td>\n      <td>4</td>\n      <td>3</td>\n      <td>24</td>\n      <td>at_risk</td>\n    </tr>\n    <tr>\n      <th>3</th>\n      <td>1854e56c-491f-11eb-806e-000d3a38a36f</td>\n      <td>Android App</td>\n      <td>Android App</td>\n      <td>2021-01-06</td>\n      <td>2021-01-17</td>\n      <td>2021-01-17</td>\n      <td>2021-01-06</td>\n      <td>1.0</td>\n      <td>1.0</td>\n      <td>39.99</td>\n      <td>...</td>\n      <td>2.0</td>\n      <td>121.97</td>\n      <td>165</td>\n      <td>2.0</td>\n      <td>121.97</td>\n      <td>3</td>\n      <td>1</td>\n      <td>1</td>\n      <td>31</td>\n      <td>about_to_sleep</td>\n    </tr>\n    <tr>\n      <th>4</th>\n      <td>d6ea1074-f1f5-11e9-9346-000d3a38a36f</td>\n      <td>Desktop</td>\n      <td>Desktop</td>\n      <td>2019-08-03</td>\n      <td>2021-03-07</td>\n      <td>2021-03-07</td>\n      <td>2019-08-03</td>\n      <td>1.0</td>\n      <td>1.0</td>\n      <td>49.99</td>\n      <td>...</td>\n      <td>2.0</td>\n      <td>209.98</td>\n      <td>116</td>\n      <td>2.0</td>\n      <td>209.98</td>\n      <td>3</td>\n      <td>1</td>\n      <td>1</td>\n      <td>31</td>\n      <td>about_to_sleep</td>\n    </tr>\n  </tbody>\n</table>\n<p>5 rows × 22 columns</p>\n</div>"
     },
     "execution_count": 27,
     "metadata": {},
     "output_type": "execute_result"
    }
   ],
   "source": [
    "# 2. RFM analizi yardımı ile 2 case için ilgili profildeki müşterileri bulun ve müşteri id'lerini csv ye kaydediniz.\n",
    "\n",
    "# a. FLO bünyesine yeni bir kadın ayakkabı markası dahil ediyor. Dahil ettiği markanın ürün fiyatları genel müşteri tercihlerinin üstünde. Bu nedenle markanın tanıtımı ve ürün satışları için ilgilenecek profildeki müşterilerle özel olarak iletişime geçilmek isteniliyor. Sadık müşterilerinden(champions,loyal_customers),ortalama 250 TL üzeri ve kadın kategorisinden alışveriş yapan kişiler özel olarak iletişim kuralacak müşteriler. Bu müşterilerin id numaralarını csv dosyasına yeni_marka_hedef_müşteri_id.cvs olarak kaydediniz.\n",
    "\n",
    "rfm.head()\n",
    "type(rfm)\n",
    "pd.merge(df, rfm, on='master_id').head()\n",
    "merge_df = pd.merge(df, rfm, on='master_id', how='left')\n",
    "merge_df.head()"
   ],
   "metadata": {
    "collapsed": false,
    "ExecuteTime": {
     "end_time": "2024-09-08T20:55:17.226661Z",
     "start_time": "2024-09-08T20:55:17.205428Z"
    }
   },
   "id": "2b7d185ae158e855",
   "execution_count": 27
  },
  {
   "cell_type": "code",
   "outputs": [],
   "source": [
    "merge_df[\"ortalama_harcama\"] = merge_df[\"toplam_harcama\"] / merge_df['toplam_alisveris_sayisi']\n",
    "yeni_marka_hedef_musteri = merge_df[\n",
    "    (merge_df[\"segment\"].isin([\"champions\", \"loyal_customers\"])) &\n",
    "    (merge_df[\"ortalama_harcama\"] > 250) &\n",
    "    (merge_df[\"interested_in_categories_12\"] == \"[KADIN]\")\n",
    "]\n",
    "yeni_marka_hedef_musteri[[\"master_id\"]].reset_index(drop=True).to_csv(\"yeni_marka_hedef_musteri.csv\")"
   ],
   "metadata": {
    "collapsed": false,
    "ExecuteTime": {
     "end_time": "2024-09-08T20:56:37.708091Z",
     "start_time": "2024-09-08T20:56:37.699654Z"
    }
   },
   "id": "fd4e195f43154f11",
   "execution_count": 29
  },
  {
   "cell_type": "code",
   "outputs": [
    {
     "data": {
      "text/plain": "3662     63caf5e4-e3be-11e9-ad00-000d3a38a36f\n5457     78566b7e-174e-11ea-9213-000d3a38a36f\n7272     d186774a-b095-11e9-9757-000d3a38a36f\n8810     1348781e-134b-11ea-a001-000d3a38a36f\n12778    95706470-1e38-11eb-8d74-000d3a38a36f\n19346    e42a05aa-29e0-11ea-87cc-000d3a38a36f\nName: master_id, dtype: object"
     },
     "execution_count": 32,
     "metadata": {},
     "output_type": "execute_result"
    }
   ],
   "source": [
    "yeni_marka_hedef_musteri[\"master_id\"]"
   ],
   "metadata": {
    "collapsed": false,
    "ExecuteTime": {
     "end_time": "2024-09-08T20:57:12.648902Z",
     "start_time": "2024-09-08T20:57:12.645462Z"
    }
   },
   "id": "a1dfd09fa5a97ab5",
   "execution_count": 32
  },
  {
   "cell_type": "code",
   "outputs": [
    {
     "data": {
      "text/plain": "                              master_id order_channel last_order_channel  \\\n0  cc294636-19f0-11eb-8d74-000d3a38a36f   Android App            Offline   \n1  f431bd5a-ab7b-11e9-a2fc-000d3a38a36f   Android App             Mobile   \n2  69b69676-1a40-11ea-941b-000d3a38a36f   Android App        Android App   \n3  1854e56c-491f-11eb-806e-000d3a38a36f   Android App        Android App   \n4  d6ea1074-f1f5-11e9-9346-000d3a38a36f       Desktop            Desktop   \n\n  first_order_date last_order_date last_order_date_online  \\\n0       2020-10-30      2021-02-26             2021-02-21   \n1       2017-02-08      2021-02-16             2021-02-16   \n2       2019-11-27      2020-11-27             2020-11-27   \n3       2021-01-06      2021-01-17             2021-01-17   \n4       2019-08-03      2021-03-07             2021-03-07   \n\n  last_order_date_offline  order_num_total_ever_online  \\\n0              2021-02-26                          4.0   \n1              2020-01-10                         19.0   \n2              2019-12-01                          3.0   \n3              2021-01-06                          1.0   \n4              2019-08-03                          1.0   \n\n   order_num_total_ever_offline  customer_value_total_ever_offline  ...  \\\n0                           1.0                             139.99  ...   \n1                           2.0                             159.97  ...   \n2                           2.0                             189.97  ...   \n3                           1.0                              39.99  ...   \n4                           1.0                              49.99  ...   \n\n   toplam_harcama recency  frequency  monetary  recency_score  \\\n0          939.37     125        5.0    939.37              3   \n1         2013.55     135       21.0   2013.55              3   \n2          585.32     216        5.0    585.32              2   \n3          121.97     165        2.0    121.97              3   \n4          209.98     116        2.0    209.98              3   \n\n   frequency_score  monetary_score RFM_SCORE          segment ortalama_harcama  \n0                4               4        34  loyal_customers       187.874000  \n1                5               5        35  loyal_customers        95.883333  \n2                4               3        24          at_risk       117.064000  \n3                1               1        31   about_to_sleep        60.985000  \n4                1               1        31   about_to_sleep       104.990000  \n\n[5 rows x 23 columns]",
      "text/html": "<div>\n<style scoped>\n    .dataframe tbody tr th:only-of-type {\n        vertical-align: middle;\n    }\n\n    .dataframe tbody tr th {\n        vertical-align: top;\n    }\n\n    .dataframe thead th {\n        text-align: right;\n    }\n</style>\n<table border=\"1\" class=\"dataframe\">\n  <thead>\n    <tr style=\"text-align: right;\">\n      <th></th>\n      <th>master_id</th>\n      <th>order_channel</th>\n      <th>last_order_channel</th>\n      <th>first_order_date</th>\n      <th>last_order_date</th>\n      <th>last_order_date_online</th>\n      <th>last_order_date_offline</th>\n      <th>order_num_total_ever_online</th>\n      <th>order_num_total_ever_offline</th>\n      <th>customer_value_total_ever_offline</th>\n      <th>...</th>\n      <th>toplam_harcama</th>\n      <th>recency</th>\n      <th>frequency</th>\n      <th>monetary</th>\n      <th>recency_score</th>\n      <th>frequency_score</th>\n      <th>monetary_score</th>\n      <th>RFM_SCORE</th>\n      <th>segment</th>\n      <th>ortalama_harcama</th>\n    </tr>\n  </thead>\n  <tbody>\n    <tr>\n      <th>0</th>\n      <td>cc294636-19f0-11eb-8d74-000d3a38a36f</td>\n      <td>Android App</td>\n      <td>Offline</td>\n      <td>2020-10-30</td>\n      <td>2021-02-26</td>\n      <td>2021-02-21</td>\n      <td>2021-02-26</td>\n      <td>4.0</td>\n      <td>1.0</td>\n      <td>139.99</td>\n      <td>...</td>\n      <td>939.37</td>\n      <td>125</td>\n      <td>5.0</td>\n      <td>939.37</td>\n      <td>3</td>\n      <td>4</td>\n      <td>4</td>\n      <td>34</td>\n      <td>loyal_customers</td>\n      <td>187.874000</td>\n    </tr>\n    <tr>\n      <th>1</th>\n      <td>f431bd5a-ab7b-11e9-a2fc-000d3a38a36f</td>\n      <td>Android App</td>\n      <td>Mobile</td>\n      <td>2017-02-08</td>\n      <td>2021-02-16</td>\n      <td>2021-02-16</td>\n      <td>2020-01-10</td>\n      <td>19.0</td>\n      <td>2.0</td>\n      <td>159.97</td>\n      <td>...</td>\n      <td>2013.55</td>\n      <td>135</td>\n      <td>21.0</td>\n      <td>2013.55</td>\n      <td>3</td>\n      <td>5</td>\n      <td>5</td>\n      <td>35</td>\n      <td>loyal_customers</td>\n      <td>95.883333</td>\n    </tr>\n    <tr>\n      <th>2</th>\n      <td>69b69676-1a40-11ea-941b-000d3a38a36f</td>\n      <td>Android App</td>\n      <td>Android App</td>\n      <td>2019-11-27</td>\n      <td>2020-11-27</td>\n      <td>2020-11-27</td>\n      <td>2019-12-01</td>\n      <td>3.0</td>\n      <td>2.0</td>\n      <td>189.97</td>\n      <td>...</td>\n      <td>585.32</td>\n      <td>216</td>\n      <td>5.0</td>\n      <td>585.32</td>\n      <td>2</td>\n      <td>4</td>\n      <td>3</td>\n      <td>24</td>\n      <td>at_risk</td>\n      <td>117.064000</td>\n    </tr>\n    <tr>\n      <th>3</th>\n      <td>1854e56c-491f-11eb-806e-000d3a38a36f</td>\n      <td>Android App</td>\n      <td>Android App</td>\n      <td>2021-01-06</td>\n      <td>2021-01-17</td>\n      <td>2021-01-17</td>\n      <td>2021-01-06</td>\n      <td>1.0</td>\n      <td>1.0</td>\n      <td>39.99</td>\n      <td>...</td>\n      <td>121.97</td>\n      <td>165</td>\n      <td>2.0</td>\n      <td>121.97</td>\n      <td>3</td>\n      <td>1</td>\n      <td>1</td>\n      <td>31</td>\n      <td>about_to_sleep</td>\n      <td>60.985000</td>\n    </tr>\n    <tr>\n      <th>4</th>\n      <td>d6ea1074-f1f5-11e9-9346-000d3a38a36f</td>\n      <td>Desktop</td>\n      <td>Desktop</td>\n      <td>2019-08-03</td>\n      <td>2021-03-07</td>\n      <td>2021-03-07</td>\n      <td>2019-08-03</td>\n      <td>1.0</td>\n      <td>1.0</td>\n      <td>49.99</td>\n      <td>...</td>\n      <td>209.98</td>\n      <td>116</td>\n      <td>2.0</td>\n      <td>209.98</td>\n      <td>3</td>\n      <td>1</td>\n      <td>1</td>\n      <td>31</td>\n      <td>about_to_sleep</td>\n      <td>104.990000</td>\n    </tr>\n  </tbody>\n</table>\n<p>5 rows × 23 columns</p>\n</div>"
     },
     "execution_count": 34,
     "metadata": {},
     "output_type": "execute_result"
    }
   ],
   "source": [
    "# b. Erkek ve Çoçuk ürünlerinde %40'a yakın indirim planlanmaktadır. Bu indirimle ilgili kategorilerle ilgilenen geçmişte iyi müşteri olan ama uzun süredir alışveriş yapmayan kaybedilmemesi gereken müşteriler, uykuda olanlar ve yeni gelen müşteriler özel olarak hedef alınmak isteniliyor. Uygun profildeki müşterilerin id'lerini csv dosyasına indirim_hedef_müşteri_ids.csv olarak kaydediniz.\n",
    "\n",
    "merge_df.head()"
   ],
   "metadata": {
    "collapsed": false,
    "ExecuteTime": {
     "end_time": "2024-09-08T20:57:46.487822Z",
     "start_time": "2024-09-08T20:57:46.480083Z"
    }
   },
   "id": "4e8dd5662b724ccf",
   "execution_count": 34
  },
  {
   "cell_type": "code",
   "outputs": [],
   "source": [
    "indirim_hedef_müşteri = merge_df[\n",
    "    (merge_df[\"interested_in_categories_12\"] == \"[ERKEK, COCUK]\") &\n",
    "    (merge_df[\"segment\"].isin([\"cant_loose\", \"potential_loyalists\", \"about_to_sleep\", \"need_attention\", \"promising\", \"new_customers\"]))\n",
    "]\n",
    "\n",
    "new_indirim_hedef_musteri = indirim_hedef_müşteri[[\"master_id\"]].reset_index(drop=True)\n",
    "\n",
    "new_indirim_hedef_musteri.to_csv(\"indirim_hedef_müşteri_ids.csv\")"
   ],
   "metadata": {
    "collapsed": false,
    "ExecuteTime": {
     "end_time": "2024-09-08T20:58:06.714678Z",
     "start_time": "2024-09-08T20:58:06.708254Z"
    }
   },
   "id": "b2804f5e256b536c",
   "execution_count": 35
  },
  {
   "cell_type": "code",
   "outputs": [
    {
     "data": {
      "text/plain": "                               master_id\n0   6ece7c1c-4594-11ea-acaf-000d3a38a36f\n1   9a981e7e-ee10-11e9-9346-000d3a38a36f\n2   fdb42464-76bc-11ea-b23f-000d3a38a36f\n3   06548210-bd28-11ea-aa61-000d3a38a36f\n4   bc2f61c0-afde-11e9-9757-000d3a38a36f\n..                                   ...\n71  7e6d1820-1fdf-11ea-87bf-000d3a38a36f\n72  98928afc-2465-11ea-a30f-000d3a38a36f\n73  5b010dc6-9de7-11e9-9897-000d3a38a36f\n74  4343f726-391d-11ea-85d6-000d3a38a36f\n75  8b110776-aeb5-11e9-a2fc-000d3a38a36f\n\n[76 rows x 1 columns]",
      "text/html": "<div>\n<style scoped>\n    .dataframe tbody tr th:only-of-type {\n        vertical-align: middle;\n    }\n\n    .dataframe tbody tr th {\n        vertical-align: top;\n    }\n\n    .dataframe thead th {\n        text-align: right;\n    }\n</style>\n<table border=\"1\" class=\"dataframe\">\n  <thead>\n    <tr style=\"text-align: right;\">\n      <th></th>\n      <th>master_id</th>\n    </tr>\n  </thead>\n  <tbody>\n    <tr>\n      <th>0</th>\n      <td>6ece7c1c-4594-11ea-acaf-000d3a38a36f</td>\n    </tr>\n    <tr>\n      <th>1</th>\n      <td>9a981e7e-ee10-11e9-9346-000d3a38a36f</td>\n    </tr>\n    <tr>\n      <th>2</th>\n      <td>fdb42464-76bc-11ea-b23f-000d3a38a36f</td>\n    </tr>\n    <tr>\n      <th>3</th>\n      <td>06548210-bd28-11ea-aa61-000d3a38a36f</td>\n    </tr>\n    <tr>\n      <th>4</th>\n      <td>bc2f61c0-afde-11e9-9757-000d3a38a36f</td>\n    </tr>\n    <tr>\n      <th>...</th>\n      <td>...</td>\n    </tr>\n    <tr>\n      <th>71</th>\n      <td>7e6d1820-1fdf-11ea-87bf-000d3a38a36f</td>\n    </tr>\n    <tr>\n      <th>72</th>\n      <td>98928afc-2465-11ea-a30f-000d3a38a36f</td>\n    </tr>\n    <tr>\n      <th>73</th>\n      <td>5b010dc6-9de7-11e9-9897-000d3a38a36f</td>\n    </tr>\n    <tr>\n      <th>74</th>\n      <td>4343f726-391d-11ea-85d6-000d3a38a36f</td>\n    </tr>\n    <tr>\n      <th>75</th>\n      <td>8b110776-aeb5-11e9-a2fc-000d3a38a36f</td>\n    </tr>\n  </tbody>\n</table>\n<p>76 rows × 1 columns</p>\n</div>"
     },
     "execution_count": 36,
     "metadata": {},
     "output_type": "execute_result"
    }
   ],
   "source": [
    "new_indirim_hedef_musteri"
   ],
   "metadata": {
    "collapsed": false,
    "ExecuteTime": {
     "end_time": "2024-09-08T20:58:10.373543Z",
     "start_time": "2024-09-08T20:58:10.362775Z"
    }
   },
   "id": "a77cdf459c3d3ae0",
   "execution_count": 36
  }
 ],
 "metadata": {
  "kernelspec": {
   "display_name": "Python 3",
   "language": "python",
   "name": "python3"
  },
  "language_info": {
   "codemirror_mode": {
    "name": "ipython",
    "version": 2
   },
   "file_extension": ".py",
   "mimetype": "text/x-python",
   "name": "python",
   "nbconvert_exporter": "python",
   "pygments_lexer": "ipython2",
   "version": "2.7.6"
  }
 },
 "nbformat": 4,
 "nbformat_minor": 5
}
